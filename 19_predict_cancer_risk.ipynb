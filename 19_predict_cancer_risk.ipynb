{
 "cells": [
  {
   "cell_type": "code",
   "execution_count": null,
   "id": "0a0d2ba5-70de-4aba-8902-5b38526bd7c3",
   "metadata": {},
   "outputs": [],
   "source": [
    "import random\n",
    "import xgboost\n",
    "import numpy as np\n",
    "import pandas as pd\n",
    "import matplotlib.pyplot as plt\n",
    "\n",
    "from sklearn import model_selection\n",
    "from sklearn.metrics import log_loss, accuracy_score, roc_curve, auc"
   ]
  },
  {
   "cell_type": "code",
   "execution_count": null,
   "id": "b1116c26-8571-4b93-81db-27944715615b",
   "metadata": {},
   "outputs": [],
   "source": [
    "train_and_test()"
   ]
  },
  {
   "cell_type": "code",
   "execution_count": null,
   "id": "16d9e06c-e795-4370-9626-a4bc4cba8d55",
   "metadata": {},
   "outputs": [],
   "source": [
    "def train_and_test():\n",
    "    \n",
    "    runs = 1000\n",
    "    scores, accuracy_train_list, accuracy_test_list, importance_list = [], [], [], []\n",
    "    confusion_matrix_train = np.zeros((2, 2))\n",
    "    confusion_matrix_test = np.zeros((2, 2))\n",
    "\n",
    "    for _ in range(runs):\n",
    "        \n",
    "        df = pd.read_csv(\"G:/LungCancerPredict/detected/feature_table.csv\")\n",
    "        df_1 = df[df[\"cancer_label\"] == 1]\n",
    "        df_0 = df[df[\"cancer_label\"] == 0]\n",
    "        df = pd.concat([pd.concat([df_1, df_1.sample(379), df_1.sample(378)]), df_0]) \n",
    "\n",
    "        y = df[\"cancer_label\"].values\n",
    "        x = df.drop(columns=[\"cancer_label\", \"patient_id\"]).values\n",
    "        x_train, x_test, y_train, y_test = train_test_split(x, y, test_size=0.1)\n",
    "\n",
    "        model = xgboost.XGBRegressor(\n",
    "            max_depth=10, n_estimators=80, learning_rate=0.05,\n",
    "            min_child_weight=60, nthread=8, subsample=0.95,\n",
    "            colsample_bytree=0.95, seed=random.randint(0, 500)\n",
    "        )\n",
    "        model.fit(\n",
    "            x_train, y_train, eval_set=[(x_train, y_train), (x_test, y_test)], \n",
    "            eval_metric=\"logloss\", early_stopping_rounds=5, verbose=False\n",
    "        )\n",
    "\n",
    "        train_preds = model.predict(x_train)\n",
    "        test_preds = np.clip(model.predict(x_test), 0.001, 0.999)\n",
    "\n",
    "        scores.append(log_loss(y_test, test_preds))\n",
    "        print(\"mean_score:\" ,np.mean(scores) ,\"best:\", model.best_score, \"iter:\", model.best_iteration)\n",
    "\n",
    "        fpr, tpr, thresholds  =  roc_curve(y_test, test_preds); roc_auc =auc(fpr, tpr) \n",
    "        plt.figure(); plt.figure(figsize=(5,5)); font = {'family': 'Times New Roman','weight': 'normal','size': 15}\n",
    "        plt.plot(fpr, tpr, color='darkorange',lw=2); plt.plot([0, 1], [0, 1], color='navy', lw=2, linestyle='--'); \n",
    "        plt.xlim([0.0, 1.0]); plt.ylim([0.0, 1.05]); plt.xlabel('False Positive Rate', font); plt.ylabel('True Positive Rate', font); \n",
    "        plt.title('ROC curve (AUC = %0.2f)' % roc_auc, font); plt.show()\n",
    "    \n",
    "        accuracy_train_list.append(accuracy_score(y_train, np.round(train_preds)))\n",
    "        accuracy_test_list.append(accuracy_score(y_test, np.round(test_preds)))\n",
    "\n",
    "        confusion_matrix_train += np.array([[sum((y_train == i) & (np.round(train_preds) == j)) for j in range(2)] for i in range(2)])\n",
    "        confusion_matrix_test += np.array([[sum((y_test == i) & (np.round(test_preds) == j)) for j in range(2)] for i in range(2)])\n",
    "\n",
    "        importance_list.append(model.feature_importances_)\n",
    "\n",
    "    plt.bar(range(len(importance_list[0])), np.mean(importance_list, axis=0))\n",
    "    plt.show()\n",
    "\n",
    "    print(f\"Average log loss: {np.mean(scores):.4f}\")\n",
    "    print(f\"Train Accuracy: {np.mean(accuracy_train_list) * 100:.2f}%\")\n",
    "    print(f\"Confusion Matrix (Train): \\n{confusion_matrix_train / runs}\")\n",
    "    print(f\"Test Accuracy: {np.mean(accuracy_test_list) * 100:.2f}%\")\n",
    "    print(f\"Confusion Matrix (Test): \\n{confusion_matrix_test / runs}\")\n"
   ]
  },
  {
   "cell_type": "code",
   "execution_count": null,
   "id": "48ef99d1-bede-4522-9549-4350cd2c28ac",
   "metadata": {},
   "outputs": [],
   "source": []
  }
 ],
 "metadata": {
  "kernelspec": {
   "display_name": "Python 3 (ipykernel)",
   "language": "python",
   "name": "python3"
  },
  "language_info": {
   "codemirror_mode": {
    "name": "ipython",
    "version": 3
   },
   "file_extension": ".py",
   "mimetype": "text/x-python",
   "name": "python",
   "nbconvert_exporter": "python",
   "pygments_lexer": "ipython3",
   "version": "3.10.14"
  }
 },
 "nbformat": 4,
 "nbformat_minor": 5
}
