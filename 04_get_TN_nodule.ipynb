{
 "cells": [
  {
   "cell_type": "code",
   "execution_count": null,
   "id": "7b35f4c8-6cdf-4c3b-8423-cdb4fcdf67d4",
   "metadata": {},
   "outputs": [],
   "source": [
    "import cv2\n",
    "import math\n",
    "import glob\n",
    "import ntpath\n",
    "import numpy\n",
    "import pandas\n",
    "import random"
   ]
  },
  {
   "cell_type": "code",
   "execution_count": null,
   "id": "849bcd68-f2e3-40db-9c59-907ee788279a",
   "metadata": {},
   "outputs": [],
   "source": [
    "get_tn_patients()"
   ]
  },
  {
   "cell_type": "code",
   "execution_count": null,
   "id": "9d3d805b-131d-45a9-b169-0cb710ea5559",
   "metadata": {},
   "outputs": [],
   "source": [
    "def get_tn_patients():\n",
    "            \n",
    "    for subset_no in range(0, 10):\n",
    "\n",
    "        src_path = \"G:/LungCancerPredict/original/luna_raw/\" + \"subset\" + str(subset_no) + \"/\"\n",
    "        src_files = glob.glob(src_path + \"*.mhd\")\n",
    "        \n",
    "        count=1\n",
    "        \n",
    "        for src_file in src_files:\n",
    "            \n",
    "            print(\"Counter:\",count)\n",
    "            \n",
    "            get_tn_patient(src_file)\n",
    "            \n",
    "            count+=1\n",
    "\n",
    "def get_tn_patient(src_file):\n",
    "\n",
    "    patient_id = ntpath.basename(src_file).replace(\".mhd\", \"\")\n",
    "    \n",
    "    #读取该病人tp_nodule  \n",
    "    dst_path = \"G:/LungCancerPredict/extracted/luna16_extracted_images/_labels/\"\n",
    "    df_tp_label = pandas.read_csv(dst_path + patient_id + \"_tp_nodule.csv\")\n",
    "    \n",
    "    #根据需要处理的数据类型，读取所有数据并排序\n",
    "    src_path = \"G:/LungCancerPredict/extracted/luna16_extracted_images/\" + patient_id + \"/\"\n",
    "    src_files = glob.glob(src_path + \"*_i.png\")\n",
    "    src_files.sort()\n",
    "    imgs = [cv2.imread(src_file, cv2.IMREAD_GRAYSCALE) for src_file in src_files]\n",
    "\n",
    "    #存储该病人的tn_nodule\n",
    "    labels = []\n",
    "    sample_count = 1000\n",
    "    tries = 0\n",
    "\n",
    "    while len(labels) < sample_count and tries < 10000:\n",
    "        \n",
    "        #随机选取z坐标\n",
    "        tries += 1\n",
    "        coord_z = int(numpy.random.normal(len(src_files) / 2, len(src_files) / 6)) \n",
    "        coord_z = max(coord_z, 0)\n",
    "        coord_z = min(coord_z, len(src_files) - 1)\n",
    "        img = imgs[coord_z]\n",
    "        \n",
    "        #返回非零值的坐标，如果全是0则进行下一次循环\n",
    "        img_canny = cv2.Canny(img.copy(), 100, 200)\n",
    "        non_zero_indices = numpy.nonzero(img_canny)\n",
    "        if len(non_zero_indices[0]) == 0: continue\n",
    "        \n",
    "        #随机选取x与y坐标\n",
    "        non_zero_index = random.randint(0, len(non_zero_indices[0]) - 1)\n",
    "        coord_y = non_zero_indices[0][non_zero_index]\n",
    "        coord_x = non_zero_indices[1][non_zero_index]\n",
    "        \n",
    "        ok = True\n",
    "        \n",
    "        #将该edge上的点与其他所有tp_nodule进行对比\n",
    "        for index, row in df_tp_label.iterrows():\n",
    "            \n",
    "            pos_coord_x = row[\"coord_x\"] * img.shape[1]\n",
    "            pos_coord_y = row[\"coord_y\"] * img.shape[0]\n",
    "            pos_coord_z = row[\"coord_z\"] * len(src_files)\n",
    "            diameter = row[\"diameter\"] * img.shape[1]\n",
    "            \n",
    "            dist = math.sqrt(math.pow(pos_coord_x - coord_x, 2) + math.pow(pos_coord_y - coord_y, 2) + math.pow(pos_coord_z - coord_z, 2))\n",
    "            \n",
    "            if dist < (diameter + 48): ok = False; break\n",
    "    \n",
    "        if not ok: continue\n",
    "    \n",
    "        perc_x = round(coord_x / img.shape[1], 4)\n",
    "        perc_y = round(coord_y / img.shape[0], 4)\n",
    "        perc_z = round(coord_z / len(src_files), 4)\n",
    "        diameter_percent = round(6 / img.shape[1], 4)\n",
    "        \n",
    "        labels.append([len(labels), perc_x, perc_y, perc_z, diameter_percent, 0])\n",
    "    \n",
    "    if tries > 9999:\n",
    "        \n",
    "        print(\"****** WARING!! TOO MANY TRIES ************************************\")\n",
    "    \n",
    "    df_labels = pandas.DataFrame(labels, columns=[\"anno_index\", \"coord_x\", \"coord_y\", \"coord_z\", \"diameter\", \"malscore\"])\n",
    "    df_labels.to_csv(dst_path + patient_id + \"_tn_nodule.csv\", index=False)"
   ]
  },
  {
   "cell_type": "code",
   "execution_count": null,
   "id": "146c1c6d-4e05-4b29-b2de-0d558e272a00",
   "metadata": {},
   "outputs": [],
   "source": []
  },
  {
   "cell_type": "code",
   "execution_count": null,
   "id": "5c05670b-4394-497f-95f9-01d8845927c4",
   "metadata": {},
   "outputs": [],
   "source": []
  },
  {
   "cell_type": "code",
   "execution_count": null,
   "id": "937fd097-6e83-43e0-be66-82a7ac0aabdc",
   "metadata": {},
   "outputs": [],
   "source": []
  },
  {
   "cell_type": "code",
   "execution_count": null,
   "id": "37455a6f-1e09-4290-9266-e72417e654d7",
   "metadata": {},
   "outputs": [],
   "source": []
  },
  {
   "cell_type": "code",
   "execution_count": null,
   "id": "65346740-420d-4fec-915e-0bc8dd37e86f",
   "metadata": {},
   "outputs": [],
   "source": []
  },
  {
   "cell_type": "code",
   "execution_count": null,
   "id": "9318070e-3cc8-42d7-803a-7f8deddd74fd",
   "metadata": {},
   "outputs": [],
   "source": []
  },
  {
   "cell_type": "code",
   "execution_count": null,
   "id": "5937b7e1-c313-4831-a670-23b6bf201986",
   "metadata": {},
   "outputs": [],
   "source": []
  },
  {
   "cell_type": "code",
   "execution_count": null,
   "id": "537ccde9-1594-463e-872f-e381c6d7c9b1",
   "metadata": {},
   "outputs": [],
   "source": []
  },
  {
   "cell_type": "code",
   "execution_count": null,
   "id": "232f73a0-54d9-42d9-93ef-42e3bb41f29e",
   "metadata": {},
   "outputs": [],
   "source": []
  },
  {
   "cell_type": "code",
   "execution_count": null,
   "id": "fb1370c9-8dc2-4f9b-9ac4-c8ba77515afd",
   "metadata": {},
   "outputs": [],
   "source": []
  },
  {
   "cell_type": "code",
   "execution_count": null,
   "id": "88b86b19-0afa-4863-bf42-73ac93977f82",
   "metadata": {},
   "outputs": [],
   "source": []
  },
  {
   "cell_type": "code",
   "execution_count": null,
   "id": "bed8f3cc-278e-499c-b6dc-770da33143f1",
   "metadata": {},
   "outputs": [],
   "source": []
  }
 ],
 "metadata": {
  "kernelspec": {
   "display_name": "Python 3 (ipykernel)",
   "language": "python",
   "name": "python3"
  },
  "language_info": {
   "codemirror_mode": {
    "name": "ipython",
    "version": 3
   },
   "file_extension": ".py",
   "mimetype": "text/x-python",
   "name": "python",
   "nbconvert_exporter": "python",
   "pygments_lexer": "ipython3",
   "version": "3.10.14"
  }
 },
 "nbformat": 4,
 "nbformat_minor": 5
}
