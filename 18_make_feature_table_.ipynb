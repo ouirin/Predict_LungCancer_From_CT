{
 "cells": [
  {
   "cell_type": "code",
   "execution_count": null,
   "id": "20b80b26-aa85-478d-86c2-7ffb271aac20",
   "metadata": {},
   "outputs": [],
   "source": [
    "import pandas"
   ]
  },
  {
   "cell_type": "code",
   "execution_count": null,
   "id": "42105adb-098f-4bd5-9685-6c9ece78bc67",
   "metadata": {},
   "outputs": [],
   "source": [
    "make_feture_table()"
   ]
  },
  {
   "cell_type": "code",
   "execution_count": null,
   "id": "7bc212e5-29ee-4404-a51a-494656a1a81a",
   "metadata": {},
   "outputs": [],
   "source": [
    "def make_feture_table():\n",
    "\n",
    "    df_labels = pandas.read_csv(\"G:/LungCancerPredict/resources/stage1_labels.csv\")\n",
    "\n",
    "    res_list = []\n",
    "    \n",
    "    for index, row in df_labels.iterrows():\n",
    "\n",
    "        print(index)\n",
    "\n",
    "        patient_id = row[\"id\"]\n",
    "        cancer_label = row[\"cancer\"]\n",
    "        \n",
    "        df = [\n",
    "            pandas.read_csv(\"G:/LungCancerPredict/detected/rnn_detect_ndsb3_nms_cube_attribute/\" + patient_id + \".csv\"),\n",
    "            pandas.read_csv(\"G:/LungCancerPredict/detected/cnn_detect_ndsb3_nms_cube_attribute/\" + patient_id + \".csv\")\n",
    "        ]\n",
    "        df = pandas.concat(df, ignore_index=True)\n",
    "\n",
    "        df = df[df[\"diamter\"] > 0]\n",
    "        df = df[df[\"nodule_chance\"] > 0.5]\n",
    "  \n",
    "        if len(df) > 0:\n",
    "            max_index = df[\"malignancy\"].argmax()\n",
    "            selected_nodule = df.loc[max_index] \n",
    "            res_list.append([cancer_label]+selected_nodule.values.tolist())\n",
    "        else:\n",
    "            res_list.append([cancer_label]+[patient_id , 0 , 0 , 0 , 0 , 0 , 0 , 0 , 0 , 0 , 0 , 0 , 0 , 0 ])\n",
    "\n",
    "    columns = [\"cancer_label\",\"patient_id\",\"coord_x\",\"coord_y\",\"coord_z\",\"nodule_chance\",\"diamter\",\"malignancy\",\"spiculation\",\"lobulation\",\"sphericiy\",\"margin\",\"subtley\",\"textrue\",\"calcification\"]\n",
    "\n",
    "    df = pandas.DataFrame(res_list, columns=columns)\n",
    "\n",
    "    df.to_csv(\"G:/LungCancerPredict/detected/feature_table.csv\", index=False)\n",
    "\n"
   ]
  },
  {
   "cell_type": "code",
   "execution_count": null,
   "id": "d2c5934e-33b0-4694-bddb-836e57d5d0da",
   "metadata": {},
   "outputs": [],
   "source": []
  },
  {
   "cell_type": "code",
   "execution_count": null,
   "id": "f5553e64-df14-4619-9874-48ba553d9346",
   "metadata": {},
   "outputs": [],
   "source": []
  }
 ],
 "metadata": {
  "kernelspec": {
   "display_name": "Python 3 (ipykernel)",
   "language": "python",
   "name": "python3"
  },
  "language_info": {
   "codemirror_mode": {
    "name": "ipython",
    "version": 3
   },
   "file_extension": ".py",
   "mimetype": "text/x-python",
   "name": "python",
   "nbconvert_exporter": "python",
   "pygments_lexer": "ipython3",
   "version": "3.10.14"
  }
 },
 "nbformat": 4,
 "nbformat_minor": 5
}
